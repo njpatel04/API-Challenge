{
 "cells": [
  {
   "cell_type": "markdown",
   "metadata": {},
   "source": [
    "# WeatherPy\n",
    "----\n",
    "\n",
    "#### Note\n",
    "* Instructions have been included for each segment. You do not have to follow them exactly, but they are included to help you think through the steps."
   ]
  },
  {
   "cell_type": "code",
   "execution_count": 23,
   "metadata": {
    "scrolled": true
   },
   "outputs": [],
   "source": [
    "# Dependencies and Setup\n",
    "import matplotlib.pyplot as plt\n",
    "import pandas as pd\n",
    "import numpy as np\n",
    "import requests\n",
    "import time\n",
    "from scipy.stats import linregress\n",
    "from pprint import pprint\n",
    "\n",
    "# Import API key\n",
    "from api_keys import weather_api_key\n",
    "\n",
    "# Incorporated citipy to determine city based on latitude and longitude\n",
    "from citipy import citipy\n",
    "\n",
    "# Output File (CSV)\n",
    "output_data_file = \"output_data/cities.csv\"\n",
    "\n",
    "# Range of latitudes and longitudes\n",
    "lat_range = (-90, 90)\n",
    "lng_range = (-180, 180)"
   ]
  },
  {
   "cell_type": "markdown",
   "metadata": {},
   "source": [
    "## Generate Cities List"
   ]
  },
  {
   "cell_type": "code",
   "execution_count": 2,
   "metadata": {},
   "outputs": [
    {
     "name": "stdout",
     "output_type": "stream",
     "text": [
      "768a8d905daa41f48c7da703c1eec953\n"
     ]
    }
   ],
   "source": [
    "# List for holding lat_lngs and cities\n",
    "lat_lngs = []\n",
    "cities = []\n",
    "\n",
    "# Create a set of random lat and lng combinations\n",
    "lats = np.random.uniform(lat_range[0], lat_range[1], size=1500)\n",
    "lngs = np.random.uniform(lng_range[0], lng_range[1], size=1500)\n",
    "lat_lngs = zip(lats, lngs)\n",
    "\n",
    "# Identify nearest city for each lat, lng combination\n",
    "for lat_lng in lat_lngs:\n",
    "    city = citipy.nearest_city(lat_lng[0], lat_lng[1]).city_name\n",
    "    \n",
    "    # If the city is unique, then add it to a our cities list\n",
    "    if city not in cities:\n",
    "        cities.append(city)\n",
    "\n",
    "# Print the city count to confirm sufficient count\n",
    "len(cities)\n",
    "print(weather_api_key)"
   ]
  },
  {
   "cell_type": "markdown",
   "metadata": {},
   "source": [
    "Perform API Calls\n",
    "* Perform a weather check on each city using a series of successive API calls.\n",
    "* Include a print log of each city as it'sbeing processed (with the city number and city name)."
   ]
  },
  {
   "cell_type": "code",
   "execution_count": 3,
   "metadata": {
    "scrolled": true
   },
   "outputs": [
    {
     "name": "stdout",
     "output_type": "stream",
     "text": [
      "Processing Record 1 of Set 1 | Pampierstad\n",
      "Processing Record 2 of Set 1 | Jamestown\n",
      "Processing Record 3 of Set 1 | Kapaa\n",
      "Processing Record 4 of Set 1 | Vaini\n",
      "Processing Record 5 of Set 1 | Lagoa\n",
      "Processing Record 6 of Set 1 | Telde\n",
      "Processing Record 7 of Set 1 | Lavrentiya\n",
      "Processing Record 8 of Set 1 | Chui\n",
      "City not found.Skipping...\n",
      "Processing Record 9 of Set 1 | Yellowknife\n",
      "Processing Record 10 of Set 1 | Ushuaia\n",
      "Processing Record 11 of Set 1 | Castro\n",
      "City not found.Skipping...\n",
      "Processing Record 12 of Set 1 | Mehamn\n",
      "Processing Record 13 of Set 1 | São Filipe\n",
      "Processing Record 14 of Set 1 | Port Alfred\n",
      "Processing Record 15 of Set 1 | Provideniya\n",
      "Processing Record 16 of Set 1 | Chokurdakh\n",
      "Processing Record 17 of Set 1 | São Francisco de Paula\n",
      "Processing Record 18 of Set 1 | Rikitea\n",
      "Processing Record 19 of Set 1 | Lebu\n",
      "Processing Record 20 of Set 1 | Atuona\n",
      "Processing Record 21 of Set 1 | Busselton\n",
      "Processing Record 22 of Set 1 | Hobart\n",
      "Processing Record 23 of Set 1 | ‘Āhuimanu\n",
      "Processing Record 24 of Set 1 | Vladičin Han\n",
      "Processing Record 25 of Set 1 | Peleduy\n",
      "Processing Record 26 of Set 1 | Dikson\n",
      "Processing Record 27 of Set 1 | Fortuna\n",
      "Processing Record 28 of Set 1 | Hermanus\n",
      "Processing Record 29 of Set 1 | Tiksi\n",
      "Processing Record 30 of Set 1 | Blackwater\n",
      "Processing Record 31 of Set 1 | Kodīnar\n",
      "Processing Record 32 of Set 1 | Upernavik\n",
      "City not found.Skipping...\n",
      "Processing Record 33 of Set 1 | Broome\n",
      "City not found.Skipping...\n",
      "Processing Record 34 of Set 1 | Bredasdorp\n",
      "Processing Record 35 of Set 1 | Port Blair\n",
      "Processing Record 36 of Set 1 | Esperance\n",
      "Processing Record 37 of Set 1 | Alyangula\n",
      "Processing Record 38 of Set 1 | Albany\n",
      "Processing Record 39 of Set 1 | Sitka\n",
      "Processing Record 40 of Set 1 | Zhicheng\n",
      "Processing Record 41 of Set 1 | Southampton\n",
      "Processing Record 42 of Set 1 | Longyearbyen\n",
      "Processing Record 43 of Set 1 | Saint George\n",
      "Processing Record 44 of Set 1 | El Reno\n",
      "Processing Record 45 of Set 1 | Belaya Gora\n",
      "City not found.Skipping...\n",
      "City not found.Skipping...\n",
      "Processing Record 46 of Set 1 | Avarua\n",
      "Processing Record 47 of Set 1 | Khatanga\n",
      "Processing Record 48 of Set 1 | Verkhnyaya Balkariya\n",
      "Processing Record 49 of Set 1 | Besançon\n",
      "Processing Record 50 of Set 1 | Ordzhonīkīdze\n",
      "City not found.Skipping...\n",
      "Processing Record 1 of Set 2 | Lyuban'\n",
      "Processing Record 2 of Set 2 | Novobirilyussy\n",
      "Processing Record 3 of Set 2 | Severo-Kuril'sk\n",
      "Processing Record 4 of Set 2 | Qaanaaq\n",
      "Processing Record 5 of Set 2 | George Town\n",
      "Processing Record 6 of Set 2 | Vangaindrano\n",
      "Processing Record 7 of Set 2 | Vanimo\n",
      "Processing Record 8 of Set 2 | Faanui\n",
      "Processing Record 9 of Set 2 | Sampit\n",
      "Processing Record 10 of Set 2 | Ventspils\n",
      "Processing Record 11 of Set 2 | Mahébourg\n",
      "Processing Record 12 of Set 2 | Cape Town\n",
      "Processing Record 13 of Set 2 | East London\n",
      "Processing Record 14 of Set 2 | Punta Arenas\n",
      "Processing Record 15 of Set 2 | Mount Gambier\n",
      "Processing Record 16 of Set 2 | Codrington\n",
      "Processing Record 17 of Set 2 | Margate\n",
      "City not found.Skipping...\n",
      "City not found.Skipping...\n",
      "Processing Record 18 of Set 2 | Leningradskiy\n",
      "Processing Record 19 of Set 2 | Teocaltiche\n",
      "Processing Record 20 of Set 2 | Nivala\n",
      "Processing Record 21 of Set 2 | Hithadhoo\n",
      "Processing Record 22 of Set 2 | Opuwo\n",
      "Processing Record 23 of Set 2 | Port Lincoln\n",
      "Processing Record 24 of Set 2 | Manjacaze\n",
      "Processing Record 25 of Set 2 | Saskylakh\n",
      "Processing Record 26 of Set 2 | Meulaboh\n",
      "Processing Record 27 of Set 2 | Butaritari\n",
      "Processing Record 28 of Set 2 | Pucallpa\n",
      "Processing Record 29 of Set 2 | Bluff\n",
      "City not found.Skipping...\n",
      "Processing Record 30 of Set 2 | Thabazimbi\n",
      "Processing Record 31 of Set 2 | Muros\n",
      "Processing Record 32 of Set 2 | Mezen'\n",
      "Processing Record 33 of Set 2 | Northam\n",
      "Processing Record 34 of Set 2 | Port Hardy\n",
      "Processing Record 35 of Set 2 | Daru\n",
      "Processing Record 36 of Set 2 | Khovd\n",
      "Processing Record 37 of Set 2 | Clyde River\n",
      "Processing Record 38 of Set 2 | Lethbridge\n",
      "Processing Record 39 of Set 2 | New Norfolk\n",
      "Processing Record 40 of Set 2 | Barrow\n",
      "Processing Record 41 of Set 2 | Tuktoyaktuk\n",
      "Processing Record 42 of Set 2 | Victor Harbor\n",
      "Processing Record 43 of Set 2 | Cayenne\n",
      "Processing Record 44 of Set 2 | Ibarra\n",
      "Processing Record 45 of Set 2 | Katsuura\n",
      "Processing Record 46 of Set 2 | Vila Franca do Campo\n",
      "Processing Record 47 of Set 2 | Oktyabr'skiy\n",
      "Processing Record 48 of Set 2 | Thompson\n",
      "Processing Record 49 of Set 2 | Mayo\n",
      "Processing Record 50 of Set 2 | Jizan\n",
      "Processing Record 1 of Set 3 | Puerto Ayora\n",
      "Processing Record 2 of Set 3 | Sola\n",
      "Processing Record 3 of Set 3 | Kostek\n",
      "Processing Record 4 of Set 3 | São João da Barra\n",
      "Processing Record 5 of Set 3 | Christchurch\n",
      "Processing Record 6 of Set 3 | Sur\n",
      "Processing Record 7 of Set 3 | Bragança\n",
      "Processing Record 8 of Set 3 | Raymondville\n",
      "Processing Record 9 of Set 3 | Pichayevo\n",
      "Processing Record 10 of Set 3 | Guerrero Negro\n",
      "Processing Record 11 of Set 3 | Marawi\n",
      "Processing Record 12 of Set 3 | Tomatlán\n",
      "Processing Record 13 of Set 3 | Shingū\n",
      "Processing Record 14 of Set 3 | Hilo\n",
      "Processing Record 15 of Set 3 | Minas\n",
      "Processing Record 16 of Set 3 | Kahului\n",
      "Processing Record 17 of Set 3 | Owando\n",
      "Processing Record 18 of Set 3 | Mananjary\n",
      "Processing Record 19 of Set 3 | Āmli\n",
      "City not found.Skipping...\n",
      "City not found.Skipping...\n",
      "Processing Record 20 of Set 3 | Dunedin\n",
      "Processing Record 21 of Set 3 | Pevek\n",
      "Processing Record 22 of Set 3 | Mana\n",
      "Processing Record 23 of Set 3 | Acapulco de Juárez\n",
      "Processing Record 24 of Set 3 | Dongsheng\n",
      "Processing Record 25 of Set 3 | Bow Island\n",
      "Processing Record 26 of Set 3 | Māndalgarh\n",
      "Processing Record 27 of Set 3 | Dingle\n",
      "Processing Record 28 of Set 3 | Sinnamary\n",
      "City not found.Skipping...\n",
      "Processing Record 29 of Set 3 | Port Elizabeth\n",
      "Processing Record 30 of Set 3 | Alegrete\n",
      "Processing Record 31 of Set 3 | Beloha\n",
      "Processing Record 32 of Set 3 | Hirado\n",
      "Processing Record 33 of Set 3 | Barentu\n",
      "Processing Record 34 of Set 3 | Nānākuli\n",
      "City not found.Skipping...\n",
      "Processing Record 35 of Set 3 | Honchō\n",
      "City not found.Skipping...\n",
      "Processing Record 36 of Set 3 | Hong Kong\n",
      "Processing Record 37 of Set 3 | Omsukchan\n",
      "City not found.Skipping...\n",
      "Processing Record 38 of Set 3 | Praia da Vitória\n",
      "Processing Record 39 of Set 3 | Port Augusta\n",
      "Processing Record 40 of Set 3 | Brus\n",
      "Processing Record 41 of Set 3 | Mar del Plata\n",
      "Processing Record 42 of Set 3 | Kenai\n",
      "Processing Record 43 of Set 3 | Hasaki\n",
      "City not found.Skipping...\n",
      "Processing Record 44 of Set 3 | Saint Paul Harbor\n",
      "Processing Record 45 of Set 3 | Maniitsoq\n",
      "Processing Record 46 of Set 3 | Grindavik\n",
      "City not found.Skipping...\n",
      "Processing Record 47 of Set 3 | Cap Malheureux\n",
      "Processing Record 48 of Set 3 | Souillac\n",
      "City not found.Skipping...\n",
      "Processing Record 49 of Set 3 | Yarim\n",
      "Processing Record 50 of Set 3 | Murgab\n",
      "Processing Record 1 of Set 4 | Walvis Bay\n",
      "City not found.Skipping...\n",
      "Processing Record 2 of Set 4 | Belmonte\n",
      "Processing Record 3 of Set 4 | Cotonou\n",
      "City not found.Skipping...\n",
      "Processing Record 4 of Set 4 | Constitución\n",
      "Processing Record 5 of Set 4 | Vredendal\n",
      "Processing Record 6 of Set 4 | Bonavista\n",
      "Processing Record 7 of Set 4 | Palu\n",
      "Processing Record 8 of Set 4 | Kloulklubed\n",
      "City not found.Skipping...\n",
      "Processing Record 9 of Set 4 | Padang\n",
      "Processing Record 10 of Set 4 | Naliya\n",
      "Processing Record 11 of Set 4 | Tuatapere\n",
      "Processing Record 12 of Set 4 | Narsaq\n",
      "Processing Record 13 of Set 4 | Van Buren\n",
      "City not found.Skipping...\n",
      "Processing Record 14 of Set 4 | Caravelas\n",
      "Processing Record 15 of Set 4 | Guangming\n",
      "Processing Record 16 of Set 4 | Yuanping\n",
      "Processing Record 17 of Set 4 | Ahipara\n",
      "Processing Record 18 of Set 4 | Qaqortoq\n",
      "Processing Record 19 of Set 4 | Arrondissement de Bergerac\n",
      "Processing Record 20 of Set 4 | Lake Shasta\n",
      "Processing Record 21 of Set 4 | Yichun\n",
      "Processing Record 22 of Set 4 | Macao\n",
      "Processing Record 23 of Set 4 | Ust-Kuyga\n",
      "Processing Record 24 of Set 4 | Anchorage\n",
      "Processing Record 25 of Set 4 | Trindade\n",
      "Processing Record 26 of Set 4 | Cherskiy\n",
      "Processing Record 27 of Set 4 | Along\n",
      "Processing Record 28 of Set 4 | Asău\n",
      "Processing Record 29 of Set 4 | Bhuj\n",
      "Processing Record 30 of Set 4 | Turinsk\n",
      "Processing Record 31 of Set 4 | Saint Anthony\n",
      "Processing Record 32 of Set 4 | Carnarvon\n",
      "Processing Record 33 of Set 4 | Sidhpura\n",
      "City not found.Skipping...\n"
     ]
    },
    {
     "name": "stdout",
     "output_type": "stream",
     "text": [
      "Processing Record 34 of Set 4 | Tromsø\n",
      "Processing Record 35 of Set 4 | Port Shepstone\n",
      "Processing Record 36 of Set 4 | Kalach-na-Donu\n",
      "Processing Record 37 of Set 4 | Coahuayana Viejo\n",
      "Processing Record 38 of Set 4 | Jacareacanga\n",
      "Processing Record 39 of Set 4 | Tupanciretã\n",
      "Processing Record 40 of Set 4 | Plymouth\n",
      "City not found.Skipping...\n",
      "City not found.Skipping...\n",
      "Processing Record 41 of Set 4 | Verkhoyansk\n",
      "Processing Record 42 of Set 4 | Alexandria\n",
      "Processing Record 43 of Set 4 | Sisimiut\n",
      "Processing Record 44 of Set 4 | Kysyl-Syr\n",
      "Processing Record 45 of Set 4 | Naze\n",
      "Processing Record 46 of Set 4 | Cortez\n",
      "Processing Record 47 of Set 4 | Fukuechō\n",
      "Processing Record 48 of Set 4 | Chake Chake\n",
      "Processing Record 49 of Set 4 | Saint-François\n",
      "Processing Record 50 of Set 4 | Turaif\n",
      "Processing Record 1 of Set 5 | Pacific Grove\n",
      "Processing Record 2 of Set 5 | Cervo\n",
      "Processing Record 3 of Set 5 | Paján\n",
      "Processing Record 4 of Set 5 | Mbalmayo\n",
      "Processing Record 5 of Set 5 | Aklavik\n",
      "City not found.Skipping...\n",
      "Processing Record 6 of Set 5 | Indianola\n",
      "Processing Record 7 of Set 5 | Kununurra\n",
      "Processing Record 8 of Set 5 | Soe\n",
      "Processing Record 9 of Set 5 | Bengkulu\n",
      "Processing Record 10 of Set 5 | Aquiraz\n",
      "Processing Record 11 of Set 5 | Barranca\n",
      "Processing Record 12 of Set 5 | North Myrtle Beach\n",
      "Processing Record 13 of Set 5 | Moerai\n",
      "Processing Record 14 of Set 5 | San Patricio\n",
      "Processing Record 15 of Set 5 | Zhuhai\n",
      "Processing Record 16 of Set 5 | Darnah\n",
      "Processing Record 17 of Set 5 | Novy Urengoy\n",
      "Processing Record 18 of Set 5 | Cabo San Lucas\n",
      "Processing Record 19 of Set 5 | Johi\n",
      "Processing Record 20 of Set 5 | Jinxiang\n",
      "City not found.Skipping...\n",
      "Processing Record 21 of Set 5 | Rakaia\n",
      "Processing Record 22 of Set 5 | Oranjemund\n",
      "Processing Record 23 of Set 5 | Tilichiki\n",
      "Processing Record 24 of Set 5 | Lompoc\n",
      "Processing Record 25 of Set 5 | Nieuw Amsterdam\n",
      "Processing Record 26 of Set 5 | The Valley\n",
      "City not found.Skipping...\n",
      "Processing Record 27 of Set 5 | Pangnirtung\n",
      "Processing Record 28 of Set 5 | Eureka\n",
      "Processing Record 29 of Set 5 | Port-Gentil\n",
      "Processing Record 30 of Set 5 | Waipawa\n",
      "Processing Record 31 of Set 5 | Kashgar\n",
      "Processing Record 32 of Set 5 | Inírida\n",
      "Processing Record 33 of Set 5 | Valparaíso\n",
      "Processing Record 34 of Set 5 | Zhangaözen\n",
      "Processing Record 35 of Set 5 | Novoagansk\n",
      "Processing Record 36 of Set 5 | Lorengau\n",
      "Processing Record 37 of Set 5 | Sept-Îles\n",
      "Processing Record 38 of Set 5 | Faridabad\n",
      "Processing Record 39 of Set 5 | Tehachapi\n",
      "Processing Record 40 of Set 5 | Kumul\n",
      "Processing Record 41 of Set 5 | Carauari\n",
      "Processing Record 42 of Set 5 | Porto-Novo\n",
      "Processing Record 43 of Set 5 | Buraidah\n",
      "Processing Record 44 of Set 5 | Muravlenko\n",
      "Processing Record 45 of Set 5 | Marabu\n",
      "Processing Record 46 of Set 5 | Manggar\n",
      "Processing Record 47 of Set 5 | Barcelos\n",
      "Processing Record 48 of Set 5 | Nanortalik\n",
      "Processing Record 49 of Set 5 | Srednekolymsk\n",
      "Processing Record 50 of Set 5 | Dalbandin\n",
      "Processing Record 1 of Set 6 | Lata\n",
      "Processing Record 2 of Set 6 | Barra\n",
      "Processing Record 3 of Set 6 | Chapais\n",
      "Processing Record 4 of Set 6 | Bassila\n",
      "Processing Record 5 of Set 6 | Saint-Philippe\n",
      "Processing Record 6 of Set 6 | Kavieng\n",
      "City not found.Skipping...\n",
      "Processing Record 7 of Set 6 | Comodoro Rivadavia\n",
      "Processing Record 8 of Set 6 | Mirzāpur\n",
      "Processing Record 9 of Set 6 | Ribeira Grande\n",
      "City not found.Skipping...\n",
      "Processing Record 10 of Set 6 | Preobrazheniye\n",
      "City not found.Skipping...\n",
      "Processing Record 11 of Set 6 | Sompeta\n",
      "Processing Record 12 of Set 6 | Port Hedland\n",
      "Processing Record 13 of Set 6 | Shimoda\n",
      "Processing Record 14 of Set 6 | Morgan City\n",
      "Processing Record 15 of Set 6 | Erzurum Province\n",
      "Processing Record 16 of Set 6 | Tasiilaq\n",
      "Processing Record 17 of Set 6 | Leirvik\n",
      "City not found.Skipping...\n",
      "Processing Record 18 of Set 6 | Diego de Almagro\n",
      "City not found.Skipping...\n",
      "Processing Record 19 of Set 6 | Pisco\n",
      "Processing Record 20 of Set 6 | Songea\n",
      "City not found.Skipping...\n",
      "Processing Record 21 of Set 6 | Brainerd\n",
      "Processing Record 22 of Set 6 | Neryungri\n",
      "Processing Record 23 of Set 6 | Bethel\n",
      "Processing Record 24 of Set 6 | Orcopampa\n",
      "Processing Record 25 of Set 6 | Kruisfontein\n",
      "City not found.Skipping...\n",
      "Processing Record 26 of Set 6 | Hachinohe\n",
      "Processing Record 27 of Set 6 | Sabirabad\n",
      "Processing Record 28 of Set 6 | Santa Isabel Rio Negro\n",
      "Processing Record 29 of Set 6 | Swellendam\n",
      "Processing Record 30 of Set 6 | Sicuani\n",
      "Processing Record 31 of Set 6 | Arraial do Cabo\n",
      "Processing Record 32 of Set 6 | Suntar\n",
      "Processing Record 33 of Set 6 | Weligama\n",
      "Processing Record 34 of Set 6 | Ljungby\n",
      "Processing Record 35 of Set 6 | Shelburne\n",
      "City not found.Skipping...\n",
      "Processing Record 36 of Set 6 | Fairbanks\n",
      "Processing Record 37 of Set 6 | Caçu\n",
      "Processing Record 38 of Set 6 | Valdosta\n",
      "Processing Record 39 of Set 6 | Qui Nhon\n",
      "City not found.Skipping...\n",
      "Processing Record 40 of Set 6 | Bekovo\n",
      "City not found.Skipping...\n",
      "Processing Record 41 of Set 6 | Ust'-Tarka\n",
      "Processing Record 42 of Set 6 | Luena\n",
      "Processing Record 43 of Set 6 | Geraldton\n",
      "Processing Record 44 of Set 6 | Manado\n",
      "Processing Record 45 of Set 6 | Bay Roberts\n",
      "Processing Record 46 of Set 6 | Esim\n",
      "City not found.Skipping...\n",
      "Processing Record 47 of Set 6 | Salalah\n",
      "Processing Record 48 of Set 6 | Banda Aceh\n",
      "Processing Record 49 of Set 6 | Chernyshevskiy\n",
      "Processing Record 50 of Set 6 | Wanning\n",
      "Processing Record 1 of Set 7 | Nome\n",
      "City not found.Skipping...\n",
      "Processing Record 2 of Set 7 | Richards Bay\n",
      "Processing Record 3 of Set 7 | Tegul'det\n",
      "Processing Record 4 of Set 7 | Ilulissat\n",
      "Processing Record 5 of Set 7 | Gohpur\n",
      "Processing Record 6 of Set 7 | Buckeye\n",
      "Processing Record 7 of Set 7 | Sudak\n",
      "Processing Record 8 of Set 7 | Soma\n",
      "Processing Record 9 of Set 7 | Porecatu\n",
      "Processing Record 10 of Set 7 | Moree\n",
      "Processing Record 11 of Set 7 | Puerto Nariño\n",
      "City not found.Skipping...\n",
      "Processing Record 12 of Set 7 | Mossamedes\n",
      "Processing Record 13 of Set 7 | Igarka\n",
      "Processing Record 14 of Set 7 | Ponta do Sol\n",
      "Processing Record 15 of Set 7 | Taunggyi\n",
      "Processing Record 16 of Set 7 | Adrar\n",
      "Processing Record 17 of Set 7 | Clarksdale\n",
      "Processing Record 18 of Set 7 | Bouna\n",
      "Processing Record 19 of Set 7 | High Level\n",
      "Processing Record 20 of Set 7 | Bani Walid\n",
      "Processing Record 21 of Set 7 | Morón\n",
      "Processing Record 22 of Set 7 | Fort Nelson\n",
      "Processing Record 23 of Set 7 | Damāvand\n",
      "Processing Record 24 of Set 7 | Isangel\n",
      "Processing Record 25 of Set 7 | Bloemhof\n",
      "Processing Record 26 of Set 7 | Innisfail\n",
      "City not found.Skipping...\n",
      "Processing Record 27 of Set 7 | São João del Rei\n",
      "Processing Record 28 of Set 7 | Sakaiminato\n",
      "Processing Record 29 of Set 7 | Totness\n",
      "Processing Record 30 of Set 7 | Kismayo\n",
      "Processing Record 31 of Set 7 | Garwolin\n",
      "Processing Record 32 of Set 7 | Saldanha\n",
      "Processing Record 33 of Set 7 | Hualmay\n",
      "Processing Record 34 of Set 7 | Ankazoabo\n",
      "Processing Record 35 of Set 7 | Geeste\n",
      "Processing Record 36 of Set 7 | Diffa\n",
      "Processing Record 37 of Set 7 | Flin Flon\n",
      "City not found.Skipping...\n",
      "Processing Record 38 of Set 7 | Tateyama\n",
      "City not found.Skipping...\n",
      "Processing Record 39 of Set 7 | Skjervøy\n",
      "Processing Record 40 of Set 7 | Oakdale\n",
      "Processing Record 41 of Set 7 | Yar-Sale\n",
      "Processing Record 42 of Set 7 | Roseburg\n",
      "Processing Record 43 of Set 7 | Kitwe\n",
      "Processing Record 44 of Set 7 | Banepā\n",
      "Processing Record 45 of Set 7 | Karad\n",
      "City not found.Skipping...\n",
      "Processing Record 46 of Set 7 | Roald\n",
      "Processing Record 47 of Set 7 | Palembang\n",
      "Processing Record 48 of Set 7 | Ylivieska\n",
      "Processing Record 49 of Set 7 | Mandalgovi\n",
      "Processing Record 50 of Set 7 | Paragominas\n",
      "Processing Record 1 of Set 8 | Yārāda\n",
      "Processing Record 2 of Set 8 | Rocha\n",
      "Processing Record 3 of Set 8 | Araouane\n",
      "Processing Record 4 of Set 8 | Gizo Government Station\n",
      "Processing Record 5 of Set 8 | Ucluelet\n",
      "Processing Record 6 of Set 8 | Camacha\n",
      "Processing Record 7 of Set 8 | Manokwari\n",
      "Processing Record 8 of Set 8 | Nemuro\n",
      "Processing Record 9 of Set 8 | Berlevåg\n",
      "City not found.Skipping...\n",
      "Processing Record 10 of Set 8 | Hofn\n",
      "Processing Record 11 of Set 8 | Leland\n",
      "Processing Record 12 of Set 8 | Palmer\n",
      "Processing Record 13 of Set 8 | Kajaani\n",
      "Processing Record 14 of Set 8 | Katubao\n",
      "Processing Record 15 of Set 8 | Chërnaya Kholunitsa\n",
      "Processing Record 16 of Set 8 | Norman Wells\n",
      "Processing Record 17 of Set 8 | Alès\n"
     ]
    },
    {
     "name": "stdout",
     "output_type": "stream",
     "text": [
      "Processing Record 18 of Set 8 | Riyadh\n",
      "Processing Record 19 of Set 8 | Brae\n",
      "City not found.Skipping...\n",
      "Processing Record 20 of Set 8 | Soto la Marina\n",
      "Processing Record 21 of Set 8 | Cidreira\n",
      "Processing Record 22 of Set 8 | Byron Bay\n",
      "Processing Record 23 of Set 8 | Okhotsk\n",
      "Processing Record 24 of Set 8 | Lázaro Cárdenas\n",
      "Processing Record 25 of Set 8 | Arivonimamo\n",
      "Processing Record 26 of Set 8 | Lagunas\n",
      "Processing Record 27 of Set 8 | Bambanglipuro\n",
      "Processing Record 28 of Set 8 | Karasburg\n",
      "Processing Record 29 of Set 8 | Poltavka\n",
      "Processing Record 30 of Set 8 | Kudahuvadhoo\n",
      "City not found.Skipping...\n",
      "Processing Record 31 of Set 8 | Imuris\n",
      "City not found.Skipping...\n",
      "Processing Record 32 of Set 8 | Stornoway\n",
      "Processing Record 33 of Set 8 | Tazovsky\n",
      "Processing Record 34 of Set 8 | Gonbad-e Kāvūs\n",
      "Processing Record 35 of Set 8 | Attur\n",
      "Processing Record 36 of Set 8 | Hīt\n",
      "Processing Record 37 of Set 8 | Labuhan\n",
      "Processing Record 38 of Set 8 | Monroe\n",
      "Processing Record 39 of Set 8 | Burnie\n",
      "Processing Record 40 of Set 8 | Bathsheba\n",
      "City not found.Skipping...\n",
      "Processing Record 41 of Set 8 | Līsakovsk\n",
      "Processing Record 42 of Set 8 | Alta Floresta\n",
      "Processing Record 43 of Set 8 | Krasnosel'kup\n",
      "Processing Record 44 of Set 8 | Nuevo Ideal\n",
      "Processing Record 45 of Set 8 | Ust'-Omchug\n",
      "Processing Record 46 of Set 8 | Natá\n",
      "Processing Record 47 of Set 8 | Ma’anshan\n",
      "Processing Record 48 of Set 8 | Dickinson\n",
      "Processing Record 49 of Set 8 | Rio Grande\n",
      "Processing Record 50 of Set 8 | Prince Rupert\n",
      "Processing Record 1 of Set 9 | Imbituba\n",
      "Processing Record 2 of Set 9 | Beringovskiy\n",
      "Processing Record 3 of Set 9 | La Maná\n",
      "Processing Record 4 of Set 9 | Olafsvik\n",
      "Processing Record 5 of Set 9 | San Rafael\n",
      "Processing Record 6 of Set 9 | Den Helder\n",
      "Processing Record 7 of Set 9 | Göksun\n",
      "City not found.Skipping...\n",
      "Processing Record 8 of Set 9 | Vytegra\n",
      "City not found.Skipping...\n",
      "Processing Record 9 of Set 9 | Troitskoye\n",
      "City not found.Skipping...\n",
      "Processing Record 10 of Set 9 | Yangi Marg`ilon\n",
      "Processing Record 11 of Set 9 | Jiuquan\n",
      "Processing Record 12 of Set 9 | Ambon City\n",
      "Processing Record 13 of Set 9 | Nizwá\n",
      "Processing Record 14 of Set 9 | Strășeni\n",
      "Processing Record 15 of Set 9 | Itaqui\n",
      "Processing Record 16 of Set 9 | Carbonia\n",
      "Processing Record 17 of Set 9 | Puerto Escondido\n",
      "Processing Record 18 of Set 9 | Saurimo\n",
      "Processing Record 19 of Set 9 | Yelizavetino\n",
      "Processing Record 20 of Set 9 | Hay River\n",
      "Processing Record 21 of Set 9 | Lüderitz\n",
      "Processing Record 22 of Set 9 | Tianpeng\n",
      "Processing Record 23 of Set 9 | Assiniboia\n",
      "Processing Record 24 of Set 9 | Rosetta\n",
      "Processing Record 25 of Set 9 | Fareydūnshahr\n",
      "Processing Record 26 of Set 9 | Chiredzi\n",
      "Processing Record 27 of Set 9 | Tual\n",
      "Processing Record 28 of Set 9 | Carupano\n",
      "Processing Record 29 of Set 9 | Fare\n",
      "Processing Record 30 of Set 9 | Neiafu\n",
      "City not found.Skipping...\n",
      "Processing Record 31 of Set 9 | Norwich\n",
      "Processing Record 32 of Set 9 | Camabatela\n",
      "Processing Record 33 of Set 9 | Bambous Virieux\n",
      "Processing Record 34 of Set 9 | Yelizovo\n",
      "Processing Record 35 of Set 9 | Sibu\n",
      "Processing Record 36 of Set 9 | Alugan\n",
      "Processing Record 37 of Set 9 | Aromashevo\n",
      "City not found.Skipping...\n",
      "City not found.Skipping...\n",
      "Processing Record 38 of Set 9 | Samfya\n",
      "Processing Record 39 of Set 9 | Sioux Lookout\n",
      "Processing Record 40 of Set 9 | Vestmannaeyjar\n",
      "Processing Record 41 of Set 9 | Podgorenskiy\n",
      "Processing Record 42 of Set 9 | Pirovskoye\n",
      "Processing Record 43 of Set 9 | San Quintín\n",
      "Processing Record 44 of Set 9 | Qazvin\n",
      "Processing Record 45 of Set 9 | Bara\n",
      "Processing Record 46 of Set 9 | Moa\n",
      "Processing Record 47 of Set 9 | Half Moon Bay\n",
      "Processing Record 48 of Set 9 | Havøysund\n",
      "Processing Record 49 of Set 9 | Norsup\n",
      "Processing Record 50 of Set 9 | Lékoni\n",
      "Processing Record 1 of Set 10 | Torbay\n",
      "Processing Record 2 of Set 10 | Marsá Maţrūḩ\n",
      "City not found.Skipping...\n",
      "Processing Record 3 of Set 10 | ‘Ewa Beach\n",
      "Processing Record 4 of Set 10 | San Miguel\n",
      "Processing Record 5 of Set 10 | Usinsk\n",
      "Processing Record 6 of Set 10 | Redlands\n",
      "Processing Record 7 of Set 10 | Ancud\n",
      "Processing Record 8 of Set 10 | Safaga\n",
      "Processing Record 9 of Set 10 | Muncar\n",
      "Processing Record 10 of Set 10 | Porangatu\n",
      "Processing Record 11 of Set 10 | Anadyr\n",
      "Processing Record 12 of Set 10 | Paihia\n",
      "Processing Record 13 of Set 10 | Te Anau\n",
      "Processing Record 14 of Set 10 | Iquitos\n",
      "Processing Record 15 of Set 10 | Praia\n",
      "City not found.Skipping...\n",
      "Processing Record 16 of Set 10 | Isāgarh\n",
      "Processing Record 17 of Set 10 | Kirakira\n",
      "City not found.Skipping...\n",
      "Processing Record 18 of Set 10 | Los Llanos de Aridane\n",
      "City not found.Skipping...\n",
      "City not found.Skipping...\n",
      "Processing Record 19 of Set 10 | Agüimes\n",
      "City not found.Skipping...\n",
      "Processing Record 20 of Set 10 | Khanbari\n",
      "Processing Record 21 of Set 10 | Ankang\n",
      "Processing Record 22 of Set 10 | Santa Cruz de la Sierra\n",
      "Processing Record 23 of Set 10 | Solnechnyy\n",
      "City not found.Skipping...\n",
      "Processing Record 24 of Set 10 | Businga\n",
      "City not found.Skipping...\n",
      "Processing Record 25 of Set 10 | Alofi\n",
      "Processing Record 26 of Set 10 | Nelson Bay\n",
      "Processing Record 27 of Set 10 | Petropavlovsk-Kamchatskiy\n",
      "Processing Record 28 of Set 10 | Umm Kaddadah\n",
      "Processing Record 29 of Set 10 | Mitsamiouli\n",
      "Processing Record 30 of Set 10 | Kasongo-Lunda\n",
      "Processing Record 31 of Set 10 | Viedma\n",
      "Processing Record 32 of Set 10 | Santa Rosa\n",
      "Processing Record 33 of Set 10 | Xining\n",
      "Processing Record 34 of Set 10 | Yumen\n",
      "Processing Record 35 of Set 10 | Brunswick\n",
      "City not found.Skipping...\n",
      "Processing Record 36 of Set 10 | Beira\n",
      "Processing Record 37 of Set 10 | Erenhot\n",
      "Processing Record 38 of Set 10 | Pedernales\n",
      "City not found.Skipping...\n",
      "Processing Record 39 of Set 10 | Kingman\n",
      "Processing Record 40 of Set 10 | Kieta\n",
      "Processing Record 41 of Set 10 | Awjilah\n",
      "Processing Record 42 of Set 10 | Nador\n",
      "City not found.Skipping...\n",
      "Processing Record 43 of Set 10 | Holovyne\n",
      "Processing Record 44 of Set 10 | Bandarbeyla\n",
      "Processing Record 45 of Set 10 | Pangkalanbuun\n",
      "Processing Record 46 of Set 10 | San Francisco\n",
      "Processing Record 47 of Set 10 | Santiago del Estero\n",
      "Processing Record 48 of Set 10 | Maltahöhe\n",
      "Processing Record 49 of Set 10 | San Bartolomé de Tirajana\n",
      "Processing Record 50 of Set 10 | Aljezur\n",
      "Processing Record 1 of Set 11 | Dakar\n",
      "Processing Record 2 of Set 11 | Urubichá\n",
      "Processing Record 3 of Set 11 | Golden\n",
      "Processing Record 4 of Set 11 | Eyl\n",
      "City not found.Skipping...\n",
      "City not found.Skipping...\n",
      "Processing Record 5 of Set 11 | Michigan City\n",
      "Processing Record 6 of Set 11 | Rosarito\n",
      "Processing Record 7 of Set 11 | Saint-Ambroise\n",
      "Processing Record 8 of Set 11 | Volary\n",
      "Processing Record 9 of Set 11 | Caramay\n",
      "Processing Record 10 of Set 11 | Kuusamo\n",
      "Processing Record 11 of Set 11 | Iqaluit\n",
      "Processing Record 12 of Set 11 | Vao\n",
      "Processing Record 13 of Set 11 | Bulawayo\n",
      "Processing Record 14 of Set 11 | Shirokovskiy\n",
      "Processing Record 15 of Set 11 | Hibbing\n",
      "Processing Record 16 of Set 11 | Yulara\n",
      "Processing Record 17 of Set 11 | Arcos\n",
      "Processing Record 18 of Set 11 | Talnakh\n",
      "Processing Record 19 of Set 11 | Ambilobe\n",
      "Processing Record 20 of Set 11 | Touros\n",
      "Processing Record 21 of Set 11 | Celestún\n",
      "Processing Record 22 of Set 11 | Uni\n",
      "Processing Record 23 of Set 11 | Cockburn Town\n",
      "Processing Record 24 of Set 11 | Gubkinskiy\n",
      "Processing Record 25 of Set 11 | Kavaratti\n",
      "Processing Record 26 of Set 11 | Sabang\n",
      "Processing Record 27 of Set 11 | Finote Selam\n",
      "Processing Record 28 of Set 11 | Klaksvík\n",
      "Processing Record 29 of Set 11 | Kosh-Agach\n",
      "Processing Record 30 of Set 11 | Campo Largo\n",
      "Processing Record 31 of Set 11 | Leshukonskoye\n",
      "Processing Record 32 of Set 11 | Tamandaré\n",
      "Processing Record 33 of Set 11 | Departamento de Maldonado\n",
      "Processing Record 34 of Set 11 | Matara\n",
      "Processing Record 35 of Set 11 | Chongwe\n",
      "Processing Record 36 of Set 11 | Glencoe\n",
      "Processing Record 37 of Set 11 | Baruun-Urt\n",
      "City not found.Skipping...\n",
      "Processing Record 38 of Set 11 | Yerbogachën\n",
      "Processing Record 39 of Set 11 | Hamilton\n",
      "Processing Record 40 of Set 11 | Laguna\n",
      "Processing Record 41 of Set 11 | La Santisima Trinidad\n",
      "Processing Record 42 of Set 11 | Coyhaique\n",
      "Processing Record 43 of Set 11 | Bo Phloi\n",
      "Processing Record 44 of Set 11 | Bhatkal\n",
      "Processing Record 45 of Set 11 | Touba\n",
      "Processing Record 46 of Set 11 | Radviliškis\n",
      "Processing Record 47 of Set 11 | Paita\n"
     ]
    },
    {
     "name": "stdout",
     "output_type": "stream",
     "text": [
      "Processing Record 48 of Set 11 | Kjøllefjord\n",
      "Processing Record 49 of Set 11 | Husavik\n",
      "Processing Record 50 of Set 11 | Palamós\n",
      "City not found.Skipping...\n",
      "City not found.Skipping...\n",
      "Processing Record 1 of Set 12 | Tripoli\n",
      "Processing Record 2 of Set 12 | Karoi\n"
     ]
    }
   ],
   "source": [
    "weatherdata_df = pd.DataFrame({\"City\": cities, \"Lat\":\"\", \"Lng\":\"\", \"Max Temp\": \"\",\"Humidity\": \"\",\n",
    "                               \"Cloudiness\": \"\",\"Wind Speed\": \"\",\"Country\": \"\",\"Date\": \"\"})\n",
    "\n",
    "\n",
    "base_url = 'http://api.openweathermap.org/data/2.5/weather?units=imperial&q='\n",
    "\n",
    "count = 1\n",
    "batch = 1\n",
    "\n",
    "# use iterrows to iterate through pandas dataframe\n",
    "for index, row in weatherdata_df.iterrows():\n",
    "    \n",
    "    #creating URL to serach in API\n",
    "    query_url = f'{base_url}{row[\"City\"]},&APPID={weather_api_key}'\n",
    "    \n",
    "    \n",
    "    #do the API call\n",
    "    response = requests.get(query_url).json()\n",
    "    #pprint(response)\n",
    "   \n",
    "    try:\n",
    "        city = response[\"name\"]\n",
    "        print(f\"Processing Record {count} of Set {batch} | {city}\")\n",
    "        \n",
    "        weatherdata_df.loc[index, 'Country'] = response['sys']['country']\n",
    "        weatherdata_df.loc[index, 'Max Temp'] = response['main']['temp_max']\n",
    "        weatherdata_df.loc[index, 'Humidity'] = response['main']['humidity']\n",
    "        weatherdata_df.loc[index, 'Cloudiness'] = response['clouds']['all']\n",
    "        weatherdata_df.loc[index, 'Wind Speed'] = response['wind']['speed']\n",
    "        weatherdata_df.loc[index, 'Lat'] = response['coord']['lat']\n",
    "        weatherdata_df.loc[index, 'Lng'] = response['coord']['lon']\n",
    "        weatherdata_df.loc[index, 'Date'] = response['dt']\n",
    "               \n",
    "        count += 1\n",
    "    \n",
    "    except (KeyError, IndexError):\n",
    "        print(\"City not found.Skipping...\")\n",
    "        \n",
    "    if count == 51:\n",
    "        batch += 1\n",
    "        count = 1\n"
   ]
  },
  {
   "cell_type": "markdown",
   "metadata": {},
   "source": [
    "Convert Raw Data to DataFrame\n",
    "* Export the city data into a .csv.\n",
    "* Display the DataFrame\n"
   ]
  },
  {
   "cell_type": "code",
   "execution_count": 4,
   "metadata": {},
   "outputs": [
    {
     "data": {
      "text/plain": [
       "City          552\n",
       "Lat           552\n",
       "Lng           552\n",
       "Max Temp      552\n",
       "Humidity      552\n",
       "Cloudiness    552\n",
       "Wind Speed    552\n",
       "Country       552\n",
       "Date          552\n",
       "dtype: int64"
      ]
     },
     "execution_count": 4,
     "metadata": {},
     "output_type": "execute_result"
    }
   ],
   "source": [
    "weatherdata_df = weatherdata_df.replace(\"\", np.nan)\n",
    "weatherdata_df = weatherdata_df.dropna()\n",
    "weatherdata_df.count()"
   ]
  },
  {
   "cell_type": "markdown",
   "metadata": {},
   "source": [
    "## Inspect the data and remove the cities where the humidity > 100%.\n",
    "----\n",
    "Skip this step if there are no cities that have humidity > 100%. "
   ]
  },
  {
   "cell_type": "code",
   "execution_count": 5,
   "metadata": {
    "scrolled": true
   },
   "outputs": [
    {
     "data": {
      "text/html": [
       "<div>\n",
       "<style scoped>\n",
       "    .dataframe tbody tr th:only-of-type {\n",
       "        vertical-align: middle;\n",
       "    }\n",
       "\n",
       "    .dataframe tbody tr th {\n",
       "        vertical-align: top;\n",
       "    }\n",
       "\n",
       "    .dataframe thead th {\n",
       "        text-align: right;\n",
       "    }\n",
       "</style>\n",
       "<table border=\"1\" class=\"dataframe\">\n",
       "  <thead>\n",
       "    <tr style=\"text-align: right;\">\n",
       "      <th></th>\n",
       "      <th>City</th>\n",
       "      <th>Lat</th>\n",
       "      <th>Lng</th>\n",
       "      <th>Max Temp</th>\n",
       "      <th>Humidity</th>\n",
       "      <th>Cloudiness</th>\n",
       "      <th>Wind Speed</th>\n",
       "      <th>Country</th>\n",
       "      <th>Date</th>\n",
       "    </tr>\n",
       "  </thead>\n",
       "  <tbody>\n",
       "    <tr>\n",
       "      <th>0</th>\n",
       "      <td>pampierstad</td>\n",
       "      <td>-27.78</td>\n",
       "      <td>24.69</td>\n",
       "      <td>29.01</td>\n",
       "      <td>88.0</td>\n",
       "      <td>0.0</td>\n",
       "      <td>8.21</td>\n",
       "      <td>ZA</td>\n",
       "      <td>1.594779e+09</td>\n",
       "    </tr>\n",
       "    <tr>\n",
       "      <th>1</th>\n",
       "      <td>jamestown</td>\n",
       "      <td>42.10</td>\n",
       "      <td>-79.24</td>\n",
       "      <td>66.20</td>\n",
       "      <td>72.0</td>\n",
       "      <td>1.0</td>\n",
       "      <td>4.70</td>\n",
       "      <td>US</td>\n",
       "      <td>1.594778e+09</td>\n",
       "    </tr>\n",
       "    <tr>\n",
       "      <th>2</th>\n",
       "      <td>kapaa</td>\n",
       "      <td>22.08</td>\n",
       "      <td>-159.32</td>\n",
       "      <td>82.99</td>\n",
       "      <td>74.0</td>\n",
       "      <td>75.0</td>\n",
       "      <td>14.99</td>\n",
       "      <td>US</td>\n",
       "      <td>1.594778e+09</td>\n",
       "    </tr>\n",
       "    <tr>\n",
       "      <th>3</th>\n",
       "      <td>vaini</td>\n",
       "      <td>-21.20</td>\n",
       "      <td>-175.20</td>\n",
       "      <td>75.20</td>\n",
       "      <td>73.0</td>\n",
       "      <td>75.0</td>\n",
       "      <td>12.75</td>\n",
       "      <td>TO</td>\n",
       "      <td>1.594778e+09</td>\n",
       "    </tr>\n",
       "    <tr>\n",
       "      <th>4</th>\n",
       "      <td>lagoa</td>\n",
       "      <td>39.05</td>\n",
       "      <td>-27.98</td>\n",
       "      <td>68.86</td>\n",
       "      <td>80.0</td>\n",
       "      <td>0.0</td>\n",
       "      <td>6.69</td>\n",
       "      <td>PT</td>\n",
       "      <td>1.594778e+09</td>\n",
       "    </tr>\n",
       "  </tbody>\n",
       "</table>\n",
       "</div>"
      ],
      "text/plain": [
       "          City    Lat     Lng  Max Temp  Humidity  Cloudiness  Wind Speed  \\\n",
       "0  pampierstad -27.78   24.69     29.01      88.0         0.0        8.21   \n",
       "1    jamestown  42.10  -79.24     66.20      72.0         1.0        4.70   \n",
       "2        kapaa  22.08 -159.32     82.99      74.0        75.0       14.99   \n",
       "3        vaini -21.20 -175.20     75.20      73.0        75.0       12.75   \n",
       "4        lagoa  39.05  -27.98     68.86      80.0         0.0        6.69   \n",
       "\n",
       "  Country          Date  \n",
       "0      ZA  1.594779e+09  \n",
       "1      US  1.594778e+09  \n",
       "2      US  1.594778e+09  \n",
       "3      TO  1.594778e+09  \n",
       "4      PT  1.594778e+09  "
      ]
     },
     "execution_count": 5,
     "metadata": {},
     "output_type": "execute_result"
    }
   ],
   "source": [
    "#  Get the indices of cities that have humidity over 100%.\n",
    "weatherdata_df = weatherdata_df[weatherdata_df.Humidity < 100]\n",
    "weatherdata_df.head()"
   ]
  },
  {
   "cell_type": "markdown",
   "metadata": {},
   "source": [
    "### Make a new DataFrame equal to the city data to drop all humidity outliers by index.\n",
    "Passing \"inplace=False\" will make a copy of the city_data DataFrame, which we call \"clean_city_data\".\n"
   ]
  },
  {
   "cell_type": "code",
   "execution_count": 6,
   "metadata": {},
   "outputs": [],
   "source": [
    "# Extract relevant fields from the data frame\n",
    "city_data = weatherdata_df.copy()\n",
    "\n",
    "# Export the City_Data into a csv\n",
    "city_data.to_csv (r'C:\\Users\\njpat\\OneDrive\\Desktop\\API - Python\\starter_code\\city_data.csv', index = False, header=True)\n"
   ]
  },
  {
   "cell_type": "markdown",
   "metadata": {},
   "source": [
    "## Plotting the Data\n",
    "* Use proper labeling of the plots using plot titles (including date of analysis) and axes labels.\n",
    "* Save the plotted figures as .pngs."
   ]
  },
  {
   "cell_type": "markdown",
   "metadata": {},
   "source": [
    "## Latitude vs. Temperature Plot"
   ]
  },
  {
   "cell_type": "code",
   "execution_count": 7,
   "metadata": {
    "scrolled": true
   },
   "outputs": [
    {
     "data": {
      "image/png": "[encoded data removed]",
      "text/plain": [
       "<Figure size 432x288 with 1 Axes>"
      ]
     },
     "metadata": {
      "needs_background": "light"
     },
     "output_type": "display_data"
    }
   ],
   "source": [
    "plt.scatter(city_data[\"Lat\"], city_data[\"Max Temp\"], marker=\"o\", facecolors=\"blue\")\n",
    "\n",
    "#Label the axis\n",
    "plt.title(f'City Latitude vs. Max Temperature {time.strftime(\"%m/%d/%Y\")}')\n",
    "plt.xlabel(\"Latitude\")\n",
    "plt.ylabel(\"Temperature (F)\")\n",
    "\n",
    "plt.grid(True)\n",
    "\n",
    "# Save the figure\n",
    "plt.savefig(\"City Latitude vs. Max Temperature.png\")\n",
    "\n",
    "plt.show()"
   ]
  },
  {
   "cell_type": "markdown",
   "metadata": {},
   "source": [
    "## Latitude vs. Humidity Plot"
   ]
  },
  {
   "cell_type": "code",
   "execution_count": 8,
   "metadata": {},
   "outputs": [
    {
     "data": {
      "image/png": "[encoded data removed]",
      "text/plain": [
       "<Figure size 432x288 with 1 Axes>"
      ]
     },
     "metadata": {
      "needs_background": "light"
     },
     "output_type": "display_data"
    }
   ],
   "source": [
    "plt.scatter(city_data[\"Lat\"], city_data[\"Humidity\"], marker=\"o\", facecolors=\"blue\")\n",
    "\n",
    "#Label the axis\n",
    "plt.title(f'City Latitude vs. Humidity {time.strftime(\"%m/%d/%Y\")}')\n",
    "plt.xlabel(\"Latitude\")\n",
    "plt.ylabel(\"Humidity (%)\")\n",
    "\n",
    "plt.grid(True)\n",
    "\n",
    "# Save the figure\n",
    "plt.savefig(\"City Latitude vs. Humidity.png\")\n",
    "\n",
    "plt.show()"
   ]
  },
  {
   "cell_type": "markdown",
   "metadata": {},
   "source": [
    "## Latitude vs. Cloudiness Plot"
   ]
  },
  {
   "cell_type": "code",
   "execution_count": 9,
   "metadata": {},
   "outputs": [
    {
     "data": {
      "image/png": "[encoded data removed]",
      "text/plain": [
       "<Figure size 432x288 with 1 Axes>"
      ]
     },
     "metadata": {
      "needs_background": "light"
     },
     "output_type": "display_data"
    }
   ],
   "source": [
    "plt.scatter(city_data[\"Lat\"], city_data[\"Cloudiness\"], marker=\"o\", facecolors=\"blue\")\n",
    "\n",
    "#Label the axis\n",
    "plt.title(f'City Latitude vs. Cloudiness {time.strftime(\"%m/%d/%Y\")}')\n",
    "plt.xlabel(\"Latitude\")\n",
    "plt.ylabel(\"Cloudiness (%)\")\n",
    "\n",
    "plt.grid(True)\n",
    "\n",
    "# Save the figure\n",
    "plt.savefig(\"City Latitude vs.Cloudiness.png\")\n",
    "\n",
    "plt.show()"
   ]
  },
  {
   "cell_type": "markdown",
   "metadata": {},
   "source": [
    "## Latitude vs. Wind Speed Plot"
   ]
  },
  {
   "cell_type": "code",
   "execution_count": 10,
   "metadata": {},
   "outputs": [
    {
     "data": {
      "image/png": "[encoded data removed]",
      "text/plain": [
       "<Figure size 432x288 with 1 Axes>"
      ]
     },
     "metadata": {
      "needs_background": "light"
     },
     "output_type": "display_data"
    }
   ],
   "source": [
    "plt.scatter(city_data[\"Lat\"], city_data[\"Wind Speed\"], marker=\"o\", facecolors=\"blue\")\n",
    "\n",
    "#Label the axis\n",
    "plt.title(f'City Latitude vs. Wind Speed {time.strftime(\"%m/%d/%Y\")}')\n",
    "plt.xlabel(\"Latitude\")\n",
    "plt.ylabel(\"Wind Speed (%)\")\n",
    "\n",
    "plt.grid(True)\n",
    "\n",
    "# Save the figure\n",
    "plt.savefig(\"City Latitude vs. Wind Speed.png\")\n",
    "\n",
    "plt.show()"
   ]
  },
  {
   "cell_type": "markdown",
   "metadata": {},
   "source": [
    "### Linear Regression"
   ]
  },
  {
   "cell_type": "code",
   "execution_count": 11,
   "metadata": {},
   "outputs": [],
   "source": [
    "# OPTIONAL: Create a function to create Linear Regression plots\n",
    "def linreg(x, y, ax = -0.10, ay = 15):\n",
    "    x_values = x\n",
    "    y_values = y\n",
    "    (slope, intercept, rvalue, pvalue, stderr) = linregress(x_values, y_values)\n",
    "    regress_values = x_values * slope + intercept\n",
    "    line_eq = \"y = \" + str(round(slope,2)) + \"x + \" + str(round(intercept,2))\n",
    "    plt.scatter(x_values,y_values)\n",
    "    plt.plot(x_values,regress_values,\"r-\")\n",
    "    plt.annotate(line_eq,(ax,ay),fontsize=15,color=\"red\")\n",
    "    print(f\"The r-squared is: {rvalue**2}\")\n"
   ]
  },
  {
   "cell_type": "code",
   "execution_count": 12,
   "metadata": {},
   "outputs": [],
   "source": [
    "# Create Northern and Southern Hemisphere DataFrames\n",
    "north_df = city_data[city_data.Lat >= 0]\n",
    "south_df = city_data[city_data.Lat < 0]"
   ]
  },
  {
   "cell_type": "markdown",
   "metadata": {},
   "source": [
    "####  Northern Hemisphere - Max Temp vs. Latitude Linear Regression"
   ]
  },
  {
   "cell_type": "code",
   "execution_count": 26,
   "metadata": {},
   "outputs": [
    {
     "name": "stdout",
     "output_type": "stream",
     "text": [
      "The r-squared is: 0.48345655625600487\n"
     ]
    },
    {
     "data": {
      "image/png": "[encoded data removed]",
      "text/plain": [
       "<Figure size 432x288 with 1 Axes>"
      ]
     },
     "metadata": {
      "needs_background": "light"
     },
     "output_type": "display_data"
    }
   ],
   "source": [
    "linreg(north_df[\"Lat\"], north_df[\"Max Temp\"], -0.10, 45)\n",
    "plt.xlabel('Lattitude')\n",
    "plt.ylabel('Max Temp')\n",
    "plt.show()"
   ]
  },
  {
   "cell_type": "markdown",
   "metadata": {},
   "source": [
    "####  Southern Hemisphere - Max Temp vs. Latitude Linear Regression"
   ]
  },
  {
   "cell_type": "code",
   "execution_count": 14,
   "metadata": {
    "scrolled": true
   },
   "outputs": [
    {
     "name": "stdout",
     "output_type": "stream",
     "text": [
      "The r-squared is: 0.5592182404889401\n"
     ]
    },
    {
     "data": {
      "image/png": "[encoded data removed]",
      "text/plain": [
       "<Figure size 432x288 with 1 Axes>"
      ]
     },
     "metadata": {
      "needs_background": "light"
     },
     "output_type": "display_data"
    }
   ],
   "source": [
    "linreg(south_df[\"Lat\"], south_df[\"Max Temp\"], -21.5, 35)\n",
    "plt.xlabel('Lattitude')\n",
    "plt.ylabel('Max Temp')\n",
    "plt.show()"
   ]
  },
  {
   "cell_type": "markdown",
   "metadata": {},
   "source": [
    "####  Northern Hemisphere - Humidity (%) vs. Latitude Linear Regression"
   ]
  },
  {
   "cell_type": "markdown",
   "metadata": {},
   "source": [
    "### linreg(north_df[\"Lat\"], north_df[\"Humidity\"], 45, -2)\n",
    "plt.xlabel('Lattitude')\n",
    "plt.ylabel('Humidity (%)')\n",
    "plt.show()"
   ]
  },
  {
   "cell_type": "markdown",
   "metadata": {},
   "source": [
    "####  Southern Hemisphere - Humidity (%) vs. Latitude Linear Regression"
   ]
  },
  {
   "cell_type": "code",
   "execution_count": 16,
   "metadata": {},
   "outputs": [
    {
     "name": "stdout",
     "output_type": "stream",
     "text": [
      "The r-squared is: 0.002031041625030568\n"
     ]
    },
    {
     "data": {
      "image/png": "[encoded data removed]",
      "text/plain": [
       "<Figure size 432x288 with 1 Axes>"
      ]
     },
     "metadata": {
      "needs_background": "light"
     },
     "output_type": "display_data"
    }
   ],
   "source": [
    "linreg(south_df[\"Lat\"], south_df[\"Humidity\"], -25, -2)\n",
    "plt.xlabel('Lattitude')\n",
    "plt.ylabel('Humidity (%)')\n",
    "plt.show()"
   ]
  },
  {
   "cell_type": "markdown",
   "metadata": {},
   "source": [
    "####  Northern Hemisphere - Cloudiness (%) vs. Latitude Linear Regression"
   ]
  },
  {
   "cell_type": "code",
   "execution_count": 17,
   "metadata": {},
   "outputs": [
    {
     "name": "stdout",
     "output_type": "stream",
     "text": [
      "The r-squared is: 0.012978015563967762\n"
     ]
    },
    {
     "data": {
      "image/png": "[encoded data removed]",
      "text/plain": [
       "<Figure size 432x288 with 1 Axes>"
      ]
     },
     "metadata": {
      "needs_background": "light"
     },
     "output_type": "display_data"
    }
   ],
   "source": [
    "linreg(north_df[\"Lat\"], north_df[\"Cloudiness\"], 0, 5)\n",
    "plt.xlabel('Lattitude')\n",
    "plt.ylabel('Cloudiness (%)')\n",
    "plt.show()"
   ]
  },
  {
   "cell_type": "markdown",
   "metadata": {},
   "source": [
    "####  Southern Hemisphere - Cloudiness (%) vs. Latitude Linear Regression"
   ]
  },
  {
   "cell_type": "code",
   "execution_count": 18,
   "metadata": {},
   "outputs": [
    {
     "name": "stdout",
     "output_type": "stream",
     "text": [
      "The r-squared is: 0.013387863804943074\n"
     ]
    },
    {
     "data": {
      "image/png": "[encoded data removed]",
      "text/plain": [
       "<Figure size 432x288 with 1 Axes>"
      ]
     },
     "metadata": {
      "needs_background": "light"
     },
     "output_type": "display_data"
    }
   ],
   "source": [
    "linreg(south_df[\"Lat\"], south_df[\"Cloudiness\"], -50)\n",
    "plt.xlabel('Lattitude')\n",
    "plt.ylabel('Cloudiness (%)')\n",
    "plt.show()"
   ]
  },
  {
   "cell_type": "markdown",
   "metadata": {},
   "source": [
    "####  Northern Hemisphere - Wind Speed (mph) vs. Latitude Linear Regression"
   ]
  },
  {
   "cell_type": "code",
   "execution_count": 19,
   "metadata": {},
   "outputs": [
    {
     "name": "stdout",
     "output_type": "stream",
     "text": [
      "The r-squared is: 1.7917585289375842e-05\n"
     ]
    },
    {
     "data": {
      "image/png": "[encoded data removed]",
      "text/plain": [
       "<Figure size 432x288 with 1 Axes>"
      ]
     },
     "metadata": {
      "needs_background": "light"
     },
     "output_type": "display_data"
    }
   ],
   "source": [
    "linreg(north_df[\"Lat\"], north_df[\"Wind Speed\"], 0, 30)\n",
    "plt.xlabel('Lattitude')\n",
    "plt.ylabel('Wind Speed (mph)')\n",
    "plt.show()"
   ]
  },
  {
   "cell_type": "markdown",
   "metadata": {},
   "source": [
    "####  Southern Hemisphere - Wind Speed (mph) vs. Latitude Linear Regression"
   ]
  },
  {
   "cell_type": "code",
   "execution_count": 20,
   "metadata": {
    "scrolled": true
   },
   "outputs": [
    {
     "name": "stdout",
     "output_type": "stream",
     "text": [
      "The r-squared is: 0.01456557936432266\n"
     ]
    },
    {
     "data": {
      "image/png": "[encoded data removed]",
      "text/plain": [
       "<Figure size 432x288 with 1 Axes>"
      ]
     },
     "metadata": {
      "needs_background": "light"
     },
     "output_type": "display_data"
    }
   ],
   "source": [
    "linreg(south_df[\"Lat\"], south_df[\"Wind Speed\"], -50, 21)\n",
    "plt.xlabel('Lattitude')\n",
    "plt.ylabel('Wind Speed (mph)')\n",
    "plt.show()"
   ]
  },
  {
   "cell_type": "code",
   "execution_count": null,
   "metadata": {},
   "outputs": [],
   "source": []
  }
 ],
 "metadata": {
  "anaconda-cloud": {},
  "kernel_info": {
   "name": "python3"
  },
  "kernelspec": {
   "display_name": "Python [conda env:PythonData] *",
   "language": "python",
   "name": "conda-env-PythonData-py"
  },
  "language_info": {
   "codemirror_mode": {
    "name": "ipython",
    "version": 3
   },
   "file_extension": ".py",
   "mimetype": "text/x-python",
   "name": "python",
   "nbconvert_exporter": "python",
   "pygments_lexer": "ipython3",
   "version": "3.6.10"
  },
  "latex_envs": {
   "LaTeX_envs_menu_present": true,
   "autoclose": false,
   "autocomplete": true,
   "bibliofile": "biblio.bib",
   "cite_by": "apalike",
   "current_citInitial": 1,
   "eqLabelWithNumbers": true,
   "eqNumInitial": 1,
   "hotkeys": {
    "equation": "Ctrl-E",
    "itemize": "Ctrl-I"
   },
   "labels_anchors": false,
   "latex_user_defs": false,
   "report_style_numbering": false,
   "user_envs_cfg": false
  },
  "nteract": {
   "version": "0.12.3"
  }
 },
 "nbformat": 4,
 "nbformat_minor": 2
}
